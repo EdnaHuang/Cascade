{
 "cells": [
  {
   "cell_type": "markdown",
   "metadata": {},
   "source": [
    "# Train custom model (as short as possible)"
   ]
  },
  {
   "cell_type": "markdown",
   "metadata": {},
   "source": [
    "Adrian 2020-04-17\n",
    "\n",
    "Peter 2020-05-06"
   ]
  },
  {
   "cell_type": "markdown",
   "metadata": {},
   "source": [
    "### Imports and check keras/tensorflow version"
   ]
  },
  {
   "cell_type": "code",
   "execution_count": 4,
   "metadata": {},
   "outputs": [
    {
     "name": "stdout",
     "output_type": "stream",
     "text": [
      "Current directory: /home/pierre/Desktop/git_env/Calibrated-inference-of-spiking\n",
      "\n",
      "Checks for packages:\n",
      "\tYAML reader installed (version 0.16.10).\n",
      "\tKeras installed (version 2.1.6).\n",
      "\tTensorflow installed (version 1.13.1).\n"
     ]
    }
   ],
   "source": [
    "import os\n",
    "if 'Notebooks' in os.getcwd(): os.chdir('..')  # change to main directory\n",
    "print('Current directory: {}'.format( os.getcwd() ))\n",
    "\n",
    "# perform checks to catch most likly import errors\n",
    "from cascade2p import checks    # TODO: put all of this in one function\n",
    "print('\\nChecks for packages:')\n",
    "checks.check_packages()\n",
    "\n",
    "\n",
    "from cascade2p import cascade"
   ]
  },
  {
   "cell_type": "markdown",
   "metadata": {},
   "source": [
    "# Define model parameter"
   ]
  },
  {
   "cell_type": "markdown",
   "metadata": {},
   "source": [
    "In case you have defined your model already, you can skip this step."
   ]
  },
  {
   "cell_type": "code",
   "execution_count": 7,
   "metadata": {},
   "outputs": [],
   "source": [
    "cfg = dict( \n",
    "    model_name = 'GCaMP6s_5Hz',    # Model name (and name of the save folder)\n",
    "    sampling_rate = 5,    # Sampling rate in Hz (round to next integer)\n",
    "    \n",
    "    training_datasets = [\n",
    "        'DS13-GCaMP6s-m-V1',\n",
    "        'DS14-GCaMP6s-m-V1',\n",
    "        'DS15-GCaMP6s-m-V1',\n",
    "        'DS11-GCaMP6s-m-V1-neuropil-corrected',\n",
    "        'DS12-GCaMP6s-m-V1-neuropil-corrected',\n",
    "                        ],\n",
    "    \n",
    "    noise_levels = [noise for noise in range(1,5)],  # int values of noise values (do not use numpy here => representer error!)\n",
    "    \n",
    "    smoothing = 0.2,     # std of Gaussian smoothing in time (sec)\n",
    "    \n",
    "    # Advanced:\n",
    "    # For additional parameters, you can find their names in the helper_scripts/config.py\n",
    "    # file in the config_template string\n",
    "          )"
   ]
  },
  {
   "cell_type": "markdown",
   "metadata": {},
   "source": [
    "### Save the model parameter as a config.yaml file"
   ]
  },
  {
   "cell_type": "code",
   "execution_count": null,
   "metadata": {
    "scrolled": true
   },
   "outputs": [],
   "source": [
    "# save parameter as config.yaml file\n",
    "cascade.create_model_folder( cfg )\n",
    "\n",
    "print('\\nTo load this model, use the model name \"{}\"'.format( cfg['model_name'] ))"
   ]
  },
  {
   "cell_type": "markdown",
   "metadata": {},
   "source": [
    "# Train model"
   ]
  },
  {
   "cell_type": "code",
   "execution_count": null,
   "metadata": {
    "scrolled": true
   },
   "outputs": [],
   "source": [
    "model_name = cfg['model_name']\n",
    "\n",
    "# train model for all ensembles and noise levels\n",
    "cascade.train_model( model_name )\n"
   ]
  },
  {
   "cell_type": "code",
   "execution_count": null,
   "metadata": {},
   "outputs": [],
   "source": []
  },
  {
   "cell_type": "markdown",
   "metadata": {},
   "source": [
    "# Done!\n",
    "\n",
    "The trained models are saved in the folder trained_models/YOUR_MODEL_NAME as .h5 files, which contain the architecture and learned weights of your models.\n",
    "\n",
    "To predict spike rates from calcium recordings, use the notebook \"predict_own_data.ipynb\" and enter your YOUR_MODEL_NAME as the model name."
   ]
  },
  {
   "cell_type": "code",
   "execution_count": null,
   "metadata": {},
   "outputs": [],
   "source": []
  },
  {
   "cell_type": "code",
   "execution_count": null,
   "metadata": {},
   "outputs": [],
   "source": []
  }
 ],
 "metadata": {
  "kernelspec": {
   "display_name": "Python 3",
   "language": "python",
   "name": "python3"
  },
  "language_info": {
   "codemirror_mode": {
    "name": "ipython",
    "version": 3
   },
   "file_extension": ".py",
   "mimetype": "text/x-python",
   "name": "python",
   "nbconvert_exporter": "python",
   "pygments_lexer": "ipython3",
   "version": "3.6.4"
  }
 },
 "nbformat": 4,
 "nbformat_minor": 2
}
